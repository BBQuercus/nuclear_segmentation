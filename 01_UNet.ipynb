{
 "cells": [
  {
   "cell_type": "markdown",
   "metadata": {},
   "source": [
    "## 01 UNet Training"
   ]
  },
  {
   "cell_type": "markdown",
   "metadata": {},
   "source": [
    "The UNet model is used to distinguish background from forground i.e. DAPI nuclei from cytosol or intracellular space. To ensure the most accurate prediction, ideally only images that are similar to the later predictions are trained on. Therefore, the data science bowl is disregarded and only home-labeled nuclei are used."
   ]
  },
  {
   "cell_type": "code",
   "execution_count": null,
   "metadata": {
    "scrolled": true
   },
   "outputs": [],
   "source": [
    "import glob\n",
    "import skimage\n",
    "import datetime\n",
    "import numpy as np\n",
    "import tensorflow as tf\n",
    "import matplotlib.pyplot as plt\n",
    "\n",
    "import utils.data_provider\n",
    "import utils.dirtools\n",
    "import utils.evaluation\n",
    "import utils.model_builder\n",
    "import utils.metrics\n",
    "import utils.objectives"
   ]
  },
  {
   "cell_type": "markdown",
   "metadata": {},
   "source": [
    "### Image import"
   ]
  },
  {
   "cell_type": "markdown",
   "metadata": {},
   "source": [
    "Assumes all images are in the 'tif' file format and are grayscale. As the detection will only occur on 'normal' DAPI labelled nuclei, all images are also assumed to have black as background and white as signal. Signal density is not deterministic. As the same images are used for the stardist prediction later, each nuclei should be labeled uniquely."
   ]
  },
  {
   "cell_type": "code",
   "execution_count": null,
   "metadata": {},
   "outputs": [],
   "source": [
    "root = './data/train_val/'\n",
    "img_size = 256"
   ]
  },
  {
   "cell_type": "code",
   "execution_count": null,
   "metadata": {},
   "outputs": [],
   "source": [
    "# Import paths\n",
    "X = sorted(glob.glob(f'{root}images/*.tif'))\n",
    "Y = sorted(glob.glob(f'{root}masks/*.tif'))"
   ]
  },
  {
   "cell_type": "code",
   "execution_count": null,
   "metadata": {},
   "outputs": [],
   "source": [
    "# Train / valid split\n",
    "x_train, x_valid, y_train, y_valid = utils.dirtools.train_valid_split(x_list=X, y_list=Y, valid_split=0.2)"
   ]
  },
  {
   "cell_type": "code",
   "execution_count": null,
   "metadata": {},
   "outputs": [],
   "source": [
    "# Sanity check\n",
    "ix = np.random.randint(0, len(X)-1)\n",
    "\n",
    "fig, ax = plt.subplots(1, 2, figsize=(10, 4))\n",
    "ax[0].imshow(skimage.io.imread(X[ix]))\n",
    "ax[0].set_title(f'Original Image – #{ix}')\n",
    "ax[1].imshow(skimage.io.imread(Y[ix]))\n",
    "ax[1].set_title('Ground Truth')\n",
    "plt.show()"
   ]
  },
  {
   "cell_type": "markdown",
   "metadata": {},
   "source": [
    "### Build model"
   ]
  },
  {
   "cell_type": "code",
   "execution_count": null,
   "metadata": {
    "scrolled": false
   },
   "outputs": [],
   "source": [
    "# Build model\n",
    "tf.keras.backend.clear_session()\n",
    "model = utils.model_builder.standard_unet()\n",
    "model.summary()\n",
    "\n",
    "# Compile model\n",
    "# loss = utils.objectives.weighted_crossentropy\n",
    "loss = tf.keras.losses.categorical_crossentropy\n",
    "metrics = [tf.keras.metrics.categorical_accuracy]\n",
    "optimizer = tf.keras.optimizers.Adam(lr=0.0001)\n",
    "\n",
    "model.compile(loss=loss, metrics=metrics, optimizer=optimizer)\n",
    "\n",
    "# Callbacks\n",
    "model_name = f\"./models/{datetime.date.today().strftime('%Y%m%d')}_UNet\"\n",
    "callbacks = [utils.metrics.PlotLosses(),\n",
    "             tf.keras.callbacks.ModelCheckpoint(f'{model_name}.h5', save_best_only=True),\n",
    "             tf.keras.callbacks.CSVLogger(filename=f'{model_name}.csv'),\n",
    "             tf.keras.callbacks.TensorBoard(model_name)]"
   ]
  },
  {
   "cell_type": "markdown",
   "metadata": {},
   "source": [
    "### Training"
   ]
  },
  {
   "cell_type": "markdown",
   "metadata": {},
   "source": [
    "In the `./model` directory, access tensorboard via `tensorboard --logdir=.` and access via [localhost:6006](localhost:6066)."
   ]
  },
  {
   "cell_type": "code",
   "execution_count": null,
   "metadata": {
    "scrolled": false
   },
   "outputs": [],
   "source": [
    "# Build generators\n",
    "train_gen = utils.data_provider.random_sample_generator(\n",
    "    x_list=x_train,\n",
    "    y_list=y_train,\n",
    "    batch_size=16,\n",
    "    bit_depth=16,\n",
    "    dim_size=img_size)\n",
    "\n",
    "val_gen = utils.data_provider.single_data_from_images(\n",
    "    x_valid,\n",
    "    y_valid,\n",
    "    batch_size=16,\n",
    "    bit_depth=16,\n",
    "    dim_size=img_size)"
   ]
  },
  {
   "cell_type": "code",
   "execution_count": null,
   "metadata": {
    "scrolled": false
   },
   "outputs": [],
   "source": [
    "# Training\n",
    "statistics = model.fit_generator(generator=train_gen,\n",
    "                                 steps_per_epoch=20,\n",
    "                                 epochs=5,\n",
    "                                 validation_data=val_gen,\n",
    "                                 validation_steps=20,\n",
    "                                 callbacks=callbacks,\n",
    "                                 verbose=2)\n",
    "\n",
    "model.save_weights(f'{model_name}_final.h5')"
   ]
  },
  {
   "cell_type": "code",
   "execution_count": null,
   "metadata": {},
   "outputs": [],
   "source": []
  }
 ],
 "metadata": {
  "kernelspec": {
   "display_name": "Python 3",
   "language": "python",
   "name": "python3"
  },
  "language_info": {
   "codemirror_mode": {
    "name": "ipython",
    "version": 3
   },
   "file_extension": ".py",
   "mimetype": "text/x-python",
   "name": "python",
   "nbconvert_exporter": "python",
   "pygments_lexer": "ipython3",
   "version": "3.7.5"
  },
  "varInspector": {
   "cols": {
    "lenName": 16,
    "lenType": 16,
    "lenVar": 40
   },
   "kernels_config": {
    "python": {
     "delete_cmd_postfix": "",
     "delete_cmd_prefix": "del ",
     "library": "var_list.py",
     "varRefreshCmd": "print(var_dic_list())"
    },
    "r": {
     "delete_cmd_postfix": ") ",
     "delete_cmd_prefix": "rm(",
     "library": "var_list.r",
     "varRefreshCmd": "cat(var_dic_list()) "
    }
   },
   "types_to_exclude": [
    "module",
    "function",
    "builtin_function_or_method",
    "instance",
    "_Feature"
   ],
   "window_display": false
  }
 },
 "nbformat": 4,
 "nbformat_minor": 2
}
